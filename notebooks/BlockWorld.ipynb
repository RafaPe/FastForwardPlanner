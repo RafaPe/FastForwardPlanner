{
 "cells": [
  {
   "cell_type": "markdown",
   "id": "e1db2bee-211e-4d6f-892b-e710c54fd0de",
   "metadata": {},
   "source": [
    "# Mundo de los bloques"
   ]
  },
  {
   "cell_type": "markdown",
   "id": "320a7cc2-892d-42be-b2b1-d667c632de2b",
   "metadata": {},
   "source": [
    "<center>\n",
    "<img src=\"../images/blocks.png\" width=\"700\" height=\"630\">\n",
    "</center>"
   ]
  },
  {
   "cell_type": "code",
   "execution_count": 1,
   "id": "3e26dc2f-248d-42cd-b862-255b37957b43",
   "metadata": {},
   "outputs": [],
   "source": [
    "import sys\n",
    "import os\n",
    "\n",
    "# Add the parent directory to the system path\n",
    "sys.path.append(\"../\")\n",
    "from GraphPlanning import Proposition, Action, Node, A_star"
   ]
  },
  {
   "cell_type": "code",
   "execution_count": 30,
   "id": "19597c8f-3744-44cd-a444-3f9d10712642",
   "metadata": {},
   "outputs": [],
   "source": [
    "pickUpA = Action(\n",
    "    'Pick Up A', \n",
    "    [Proposition('OnTable', 'A'), Proposition('Clear', 'A'), Proposition('HandEmpty')],            \n",
    "    [Proposition('OnTable', 'A'), Proposition('Clear', 'A'), Proposition('HandEmpty')], \n",
    "    [Proposition('Holding', 'A')],\n",
    ")\n",
    "\n",
    "pickUpB = Action(\n",
    "    'Pick Up B', \n",
    "    [Proposition('OnTable', 'B'), Proposition('Clear', 'B'), Proposition('HandEmpty')],            \n",
    "    [Proposition('OnTable', 'B'), Proposition('Clear', 'B'), Proposition('HandEmpty')], \n",
    "    [Proposition('Holding', 'B')],\n",
    ")\n",
    "\n",
    "pickUpC = Action(\n",
    "    'Pick Up C', \n",
    "    [Proposition('OnTable', 'C'), Proposition('Clear', 'C'), Proposition('HandEmpty')],            \n",
    "    [Proposition('OnTable', 'C'), Proposition('Clear', 'C'), Proposition('HandEmpty')], \n",
    "    [Proposition('Holding', 'C')],\n",
    ")\n",
    "\n",
    "putDownA = Action(\n",
    "    'Put down A', \n",
    "    [Proposition('Holding', 'A')],            \n",
    "    [Proposition('Holding', 'A')], \n",
    "    [Proposition('OnTable', 'A'), Proposition('Clear', 'A'), Proposition('HandEmpty')],\n",
    ")\n",
    "\n",
    "putDownB = Action(\n",
    "    'Put down B', \n",
    "    [Proposition('Holding', 'B')],            \n",
    "    [Proposition('Holding', 'B')], \n",
    "    [Proposition('OnTable', 'B'), Proposition('Clear', 'B'), Proposition('HandEmpty')],\n",
    ")\n",
    "\n",
    "putDownC = Action(\n",
    "    'Put down C', \n",
    "    [Proposition('Holding', 'C')],            \n",
    "    [Proposition('Holding', 'C')], \n",
    "    [Proposition('OnTable', 'C'), Proposition('Clear', 'C'), Proposition('HandEmpty')],\n",
    ")\n",
    "\n",
    "stackAB = Action(\n",
    "    'Stack A on B', \n",
    "    [Proposition('Holding', 'A'), Proposition('Clear', 'B')],            \n",
    "    [Proposition('Holding', 'A'), Proposition('Clear', 'B')], \n",
    "    [Proposition('On', 'A,B'), Proposition('Clear', 'A'), Proposition('HandEmpty')],\n",
    ")\n",
    "\n",
    "stackBA = Action(\n",
    "    'Stack B on A', \n",
    "    [Proposition('Holding', 'B'), Proposition('Clear', 'A')],            \n",
    "    [Proposition('Holding', 'B'), Proposition('Clear', 'A')], \n",
    "    [Proposition('On', 'B,A'), Proposition('Clear', 'B'), Proposition('HandEmpty')],\n",
    ")\n",
    "\n",
    "stackAC = Action(\n",
    "    'Stack A on C', \n",
    "    [Proposition('Holding', 'A'), Proposition('Clear', 'C')],            \n",
    "    [Proposition('Holding', 'A'), Proposition('Clear', 'C')], \n",
    "    [Proposition('On', 'A,C'), Proposition('Clear', 'A'), Proposition('HandEmpty')],\n",
    ")\n",
    "\n",
    "stackCA = Action(\n",
    "    'Stack C on A', \n",
    "    [Proposition('Holding', 'C'), Proposition('Clear', 'A')],            \n",
    "    [Proposition('Holding', 'C'), Proposition('Clear', 'A')], \n",
    "    [Proposition('On', 'C,A'), Proposition('Clear', 'C'), Proposition('HandEmpty')],\n",
    ")\n",
    "\n",
    "stackBC = Action(\n",
    "    'Stack B on C', \n",
    "    [Proposition('Holding', 'B'), Proposition('Clear', 'C')],            \n",
    "    [Proposition('Holding', 'B'), Proposition('Clear', 'C')], \n",
    "    [Proposition('On', 'B,C'), Proposition('Clear', 'B'), Proposition('HandEmpty')],\n",
    ")\n",
    "\n",
    "stackCB = Action(\n",
    "    'Stack C on B', \n",
    "    [Proposition('Holding', 'C'), Proposition('Clear', 'B')],            \n",
    "    [Proposition('Holding', 'C'), Proposition('Clear', 'B')], \n",
    "    [Proposition('On', 'C,B'), Proposition('Clear', 'C'), Proposition('HandEmpty')],\n",
    ")\n",
    "\n",
    "unstackAB = Action(\n",
    "    'Unstack A from B', \n",
    "    [Proposition('On', 'A,B'), Proposition('Clear', 'A'), Proposition('HandEmpty')],            \n",
    "    [Proposition('On', 'A,B'), Proposition('Clear', 'A'), Proposition('HandEmpty')], \n",
    "    [Proposition('Holding', 'A'), Proposition('Clear', 'B')],\n",
    ")\n",
    "\n",
    "unstackBA = Action(\n",
    "    'Unstack B from A', \n",
    "    [Proposition('On', 'B,A'), Proposition('Clear', 'B'), Proposition('HandEmpty')],            \n",
    "    [Proposition('On', 'B,A'), Proposition('Clear', 'B'), Proposition('HandEmpty')], \n",
    "    [Proposition('Holding', 'B'), Proposition('Clear', 'A')],\n",
    ")\n",
    "\n",
    "unstackAC = Action(\n",
    "    'Unstack A from C', \n",
    "    [Proposition('On', 'A,C'), Proposition('Clear', 'A'), Proposition('HandEmpty')],            \n",
    "    [Proposition('On', 'A,C'), Proposition('Clear', 'A'), Proposition('HandEmpty')], \n",
    "    [Proposition('Holding', 'A'), Proposition('Clear', 'C')],\n",
    ")\n",
    "\n",
    "unstackCA = Action(\n",
    "    'Unstack C from A', \n",
    "    [Proposition('On', 'C,A'), Proposition('Clear', 'C'), Proposition('HandEmpty')],            \n",
    "    [Proposition('On', 'C,A'), Proposition('Clear', 'C'), Proposition('HandEmpty')], \n",
    "    [Proposition('Holding', 'C'), Proposition('Clear', 'A')],\n",
    ")\n",
    "\n",
    "unstackBC = Action(\n",
    "    'Unstack B from C', \n",
    "    [Proposition('On', 'B,C'), Proposition('Clear', 'B'), Proposition('HandEmpty')],            \n",
    "    [Proposition('On', 'B,C'), Proposition('Clear', 'B'), Proposition('HandEmpty')], \n",
    "    [Proposition('Holding', 'B'), Proposition('Clear', 'C')],\n",
    ")\n",
    "\n",
    "unstackCB = Action(\n",
    "    'Unstack C from B', \n",
    "    [Proposition('On', 'C,B'), Proposition('Clear', 'C'), Proposition('HandEmpty')],            \n",
    "    [Proposition('On', 'C,B'), Proposition('Clear', 'C'), Proposition('HandEmpty')], \n",
    "    [Proposition('Holding', 'C'), Proposition('Clear', 'B')],\n",
    ")\n"
   ]
  },
  {
   "cell_type": "code",
   "execution_count": 32,
   "id": "8e5c422e-f04e-4574-ae0f-b9879c52c7fa",
   "metadata": {},
   "outputs": [],
   "source": [
    "initial_state = [Proposition('On', 'C,A'), Proposition('OnTable', 'A'), Proposition('OnTable', 'B'), Proposition('Clear', 'C'), Proposition('Clear', 'B'), Proposition('HandEmpty')]\n",
    "goal = [Proposition('On', 'A,B'), Proposition('On','B,C')]"
   ]
  },
  {
   "cell_type": "code",
   "execution_count": 33,
   "id": "c4f9df62-be68-45f9-8ced-3a72aaae30c1",
   "metadata": {},
   "outputs": [],
   "source": [
    "node = Node(initial_state, 0, float('inf'), [])"
   ]
  },
  {
   "cell_type": "code",
   "execution_count": 35,
   "id": "85ba4c2c-6ae6-4894-b99f-cd9612a1970c",
   "metadata": {},
   "outputs": [],
   "source": [
    "actions = [\n",
    "    pickUpA,\n",
    "    pickUpB,\n",
    "    pickUpC,\n",
    "    putDownA,\n",
    "    putDownB,\n",
    "    putDownC,\n",
    "    stackAB,\n",
    "    stackBA,\n",
    "    stackAC,\n",
    "    stackCA,\n",
    "    stackBC,\n",
    "    stackCB,\n",
    "    unstackAB,\n",
    "    unstackBA,\n",
    "    unstackAC,\n",
    "    unstackCA,\n",
    "    unstackBC,\n",
    "    unstackCB\n",
    "]"
   ]
  },
  {
   "cell_type": "code",
   "execution_count": 36,
   "id": "d81d675d-cf20-4988-a76d-41a885ef24a5",
   "metadata": {},
   "outputs": [],
   "source": [
    "plan = A_star(node, goal, actions)"
   ]
  },
  {
   "cell_type": "code",
   "execution_count": 38,
   "id": "ce439e05-81d3-4fde-aa76-48ee3d77e3bd",
   "metadata": {},
   "outputs": [],
   "source": [
    "plan = ' -> '.join([str(x) for x in plan])"
   ]
  },
  {
   "cell_type": "code",
   "execution_count": 39,
   "id": "43789969-12ea-44e5-b165-4d4d4cbe5c72",
   "metadata": {},
   "outputs": [
    {
     "data": {
      "text/plain": [
       "'Unstack C from A -> Put down C -> Pick Up B -> Stack B on C -> Pick Up A -> Stack A on B'"
      ]
     },
     "execution_count": 39,
     "metadata": {},
     "output_type": "execute_result"
    }
   ],
   "source": [
    "plan"
   ]
  }
 ],
 "metadata": {
  "kernelspec": {
   "display_name": "Python 3 (ipykernel)",
   "language": "python",
   "name": "python3"
  },
  "language_info": {
   "codemirror_mode": {
    "name": "ipython",
    "version": 3
   },
   "file_extension": ".py",
   "mimetype": "text/x-python",
   "name": "python",
   "nbconvert_exporter": "python",
   "pygments_lexer": "ipython3",
   "version": "3.10.5"
  }
 },
 "nbformat": 4,
 "nbformat_minor": 5
}
