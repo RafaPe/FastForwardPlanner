{
 "cells": [
  {
   "cell_type": "markdown",
   "id": "e1db2bee-211e-4d6f-892b-e710c54fd0de",
   "metadata": {},
   "source": [
    "# Mundo de los bloques"
   ]
  },
  {
   "cell_type": "markdown",
   "id": "ee8e39cd-40ff-4e9a-8e01-a4ed3d74bd9c",
   "metadata": {},
   "source": [
    "El mundo de los bloques es un ejemplo clásico en el campo de la inteligencia artificial y la planificación automatizada. Consiste en un conjunto de bloques que pueden estar apilados unos sobre otros o situados sobre una mesa. Cada bloque tiene un nombre único, y las acciones que podemos realizar son limitadas y específicas: recoger un bloque, poner un bloque sobre otro bloque, apilar un bloque sobre la mesa, o desapilar un bloque de otro bloque."
   ]
  },
  {
   "cell_type": "markdown",
   "id": "e890217f-5938-4a95-b7a0-6f964737d628",
   "metadata": {},
   "source": [
    "**Objetivo**\n",
    "\n",
    "El objetivo en el mundo de los bloques es llegar desde un estado inicial a un estado objetivo predeterminado. Los estados están definidos por la posición de los bloques y las relaciones entre ellos (si están en la mesa, si un bloque está sobre otro, si un bloque está claro o no, etc.). Para alcanzar el estado objetivo, disponemos de una serie de acciones que nos permiten manipular los bloques de manera controlada."
   ]
  },
  {
   "cell_type": "markdown",
   "id": "99401a3e-7f27-43f9-9466-6413355e1fbf",
   "metadata": {},
   "source": [
    "**Acciones**\n",
    "\n",
    "Las acciones básicas en el mundo de los bloques son:\n",
    "\n",
    "- Recoger (Pick Up): Permite recoger un bloque de la mesa si el bloque está claro y la mano está vacía.\n",
    "- Poner (Put Down): Permite colocar un bloque en la mesa si se está sosteniendo el bloque.\n",
    "- Apilar (Stack): Permite apilar un bloque sobre otro si se está sosteniendo el bloque y el bloque destino está claro.\n",
    "- Desapilar (Unstack): Permite desapilar un bloque de otro si el bloque superior está claro y la mano está vacía.\n",
    "\n",
    "Cada acción tiene precondiciones (condiciones que deben cumplirse para que la acción sea posible), una lista de efectos de borrado (proposiciones que dejan de ser verdaderas después de la acción) y una lista de efectos de adición (proposiciones que se vuelven verdaderas después de la acción)."
   ]
  },
  {
   "cell_type": "markdown",
   "id": "9a4def50-04e1-416a-b5ff-aae3c74f559a",
   "metadata": {},
   "source": [
    "A continuación, mostramos la planificación para llegar del estado inicial, que se muestra en la imagen, al estado objetivo."
   ]
  },
  {
   "cell_type": "markdown",
   "id": "320a7cc2-892d-42be-b2b1-d667c632de2b",
   "metadata": {},
   "source": [
    "<center>\n",
    "<img src=\"../images/blocks.png\" width=\"700\" height=\"630\">\n",
    "</center>"
   ]
  },
  {
   "cell_type": "markdown",
   "id": "7241b40e-9049-43ba-b13a-37badfc8dcfa",
   "metadata": {},
   "source": [
    "Importamos las librerías necesarias"
   ]
  },
  {
   "cell_type": "code",
   "execution_count": 9,
   "id": "3e26dc2f-248d-42cd-b862-255b37957b43",
   "metadata": {},
   "outputs": [],
   "source": [
    "import sys\n",
    "import os\n",
    "\n",
    "sys.path.append(\"../\")\n",
    "from GraphPlanning import Proposition, Action, Node, fastforward_A_star"
   ]
  },
  {
   "cell_type": "markdown",
   "id": "3aafc3bf-3eed-4382-9eb2-ed2b238ed4cc",
   "metadata": {},
   "source": [
    "Definimos las acciones, donde para cada acción tendremos un nombre, una lista de precondiciones, una lista de literales por borrar y una lista de efectos (literales que se agregan)"
   ]
  },
  {
   "cell_type": "code",
   "execution_count": 10,
   "id": "19597c8f-3744-44cd-a444-3f9d10712642",
   "metadata": {},
   "outputs": [],
   "source": [
    "pickUpA = Action(\n",
    "    'Pick Up A', \n",
    "    [Proposition('OnTable', 'A'), Proposition('Clear', 'A'), Proposition('HandEmpty')],            \n",
    "    [Proposition('OnTable', 'A'), Proposition('Clear', 'A'), Proposition('HandEmpty')], \n",
    "    [Proposition('Holding', 'A')],\n",
    ")\n",
    "\n",
    "pickUpB = Action(\n",
    "    'Pick Up B', \n",
    "    [Proposition('OnTable', 'B'), Proposition('Clear', 'B'), Proposition('HandEmpty')],            \n",
    "    [Proposition('OnTable', 'B'), Proposition('Clear', 'B'), Proposition('HandEmpty')], \n",
    "    [Proposition('Holding', 'B')],\n",
    ")\n",
    "\n",
    "pickUpC = Action(\n",
    "    'Pick Up C', \n",
    "    [Proposition('OnTable', 'C'), Proposition('Clear', 'C'), Proposition('HandEmpty')],            \n",
    "    [Proposition('OnTable', 'C'), Proposition('Clear', 'C'), Proposition('HandEmpty')], \n",
    "    [Proposition('Holding', 'C')],\n",
    ")\n",
    "\n",
    "putDownA = Action(\n",
    "    'Put down A', \n",
    "    [Proposition('Holding', 'A')],            \n",
    "    [Proposition('Holding', 'A')], \n",
    "    [Proposition('OnTable', 'A'), Proposition('Clear', 'A'), Proposition('HandEmpty')],\n",
    ")\n",
    "\n",
    "putDownB = Action(\n",
    "    'Put down B', \n",
    "    [Proposition('Holding', 'B')],            \n",
    "    [Proposition('Holding', 'B')], \n",
    "    [Proposition('OnTable', 'B'), Proposition('Clear', 'B'), Proposition('HandEmpty')],\n",
    ")\n",
    "\n",
    "putDownC = Action(\n",
    "    'Put down C', \n",
    "    [Proposition('Holding', 'C')],            \n",
    "    [Proposition('Holding', 'C')], \n",
    "    [Proposition('OnTable', 'C'), Proposition('Clear', 'C'), Proposition('HandEmpty')],\n",
    ")\n",
    "\n",
    "stackAB = Action(\n",
    "    'Stack A on B', \n",
    "    [Proposition('Holding', 'A'), Proposition('Clear', 'B')],            \n",
    "    [Proposition('Holding', 'A'), Proposition('Clear', 'B')], \n",
    "    [Proposition('On', 'A,B'), Proposition('Clear', 'A'), Proposition('HandEmpty')],\n",
    ")\n",
    "\n",
    "stackBA = Action(\n",
    "    'Stack B on A', \n",
    "    [Proposition('Holding', 'B'), Proposition('Clear', 'A')],            \n",
    "    [Proposition('Holding', 'B'), Proposition('Clear', 'A')], \n",
    "    [Proposition('On', 'B,A'), Proposition('Clear', 'B'), Proposition('HandEmpty')],\n",
    ")\n",
    "\n",
    "stackAC = Action(\n",
    "    'Stack A on C', \n",
    "    [Proposition('Holding', 'A'), Proposition('Clear', 'C')],            \n",
    "    [Proposition('Holding', 'A'), Proposition('Clear', 'C')], \n",
    "    [Proposition('On', 'A,C'), Proposition('Clear', 'A'), Proposition('HandEmpty')],\n",
    ")\n",
    "\n",
    "stackCA = Action(\n",
    "    'Stack C on A', \n",
    "    [Proposition('Holding', 'C'), Proposition('Clear', 'A')],            \n",
    "    [Proposition('Holding', 'C'), Proposition('Clear', 'A')], \n",
    "    [Proposition('On', 'C,A'), Proposition('Clear', 'C'), Proposition('HandEmpty')],\n",
    ")\n",
    "\n",
    "stackBC = Action(\n",
    "    'Stack B on C', \n",
    "    [Proposition('Holding', 'B'), Proposition('Clear', 'C')],            \n",
    "    [Proposition('Holding', 'B'), Proposition('Clear', 'C')], \n",
    "    [Proposition('On', 'B,C'), Proposition('Clear', 'B'), Proposition('HandEmpty')],\n",
    ")\n",
    "\n",
    "stackCB = Action(\n",
    "    'Stack C on B', \n",
    "    [Proposition('Holding', 'C'), Proposition('Clear', 'B')],            \n",
    "    [Proposition('Holding', 'C'), Proposition('Clear', 'B')], \n",
    "    [Proposition('On', 'C,B'), Proposition('Clear', 'C'), Proposition('HandEmpty')],\n",
    ")\n",
    "\n",
    "unstackAB = Action(\n",
    "    'Unstack A from B', \n",
    "    [Proposition('On', 'A,B'), Proposition('Clear', 'A'), Proposition('HandEmpty')],            \n",
    "    [Proposition('On', 'A,B'), Proposition('Clear', 'A'), Proposition('HandEmpty')], \n",
    "    [Proposition('Holding', 'A'), Proposition('Clear', 'B')],\n",
    ")\n",
    "\n",
    "unstackBA = Action(\n",
    "    'Unstack B from A', \n",
    "    [Proposition('On', 'B,A'), Proposition('Clear', 'B'), Proposition('HandEmpty')],            \n",
    "    [Proposition('On', 'B,A'), Proposition('Clear', 'B'), Proposition('HandEmpty')], \n",
    "    [Proposition('Holding', 'B'), Proposition('Clear', 'A')],\n",
    ")\n",
    "\n",
    "unstackAC = Action(\n",
    "    'Unstack A from C', \n",
    "    [Proposition('On', 'A,C'), Proposition('Clear', 'A'), Proposition('HandEmpty')],            \n",
    "    [Proposition('On', 'A,C'), Proposition('Clear', 'A'), Proposition('HandEmpty')], \n",
    "    [Proposition('Holding', 'A'), Proposition('Clear', 'C')],\n",
    ")\n",
    "\n",
    "unstackCA = Action(\n",
    "    'Unstack C from A', \n",
    "    [Proposition('On', 'C,A'), Proposition('Clear', 'C'), Proposition('HandEmpty')],            \n",
    "    [Proposition('On', 'C,A'), Proposition('Clear', 'C'), Proposition('HandEmpty')], \n",
    "    [Proposition('Holding', 'C'), Proposition('Clear', 'A')],\n",
    ")\n",
    "\n",
    "unstackBC = Action(\n",
    "    'Unstack B from C', \n",
    "    [Proposition('On', 'B,C'), Proposition('Clear', 'B'), Proposition('HandEmpty')],            \n",
    "    [Proposition('On', 'B,C'), Proposition('Clear', 'B'), Proposition('HandEmpty')], \n",
    "    [Proposition('Holding', 'B'), Proposition('Clear', 'C')],\n",
    ")\n",
    "\n",
    "unstackCB = Action(\n",
    "    'Unstack C from B', \n",
    "    [Proposition('On', 'C,B'), Proposition('Clear', 'C'), Proposition('HandEmpty')],            \n",
    "    [Proposition('On', 'C,B'), Proposition('Clear', 'C'), Proposition('HandEmpty')], \n",
    "    [Proposition('Holding', 'C'), Proposition('Clear', 'B')],\n",
    ")\n"
   ]
  },
  {
   "cell_type": "markdown",
   "id": "525af1b5-8f07-43ba-a252-0964e2f1d12a",
   "metadata": {},
   "source": [
    "Ahora definimos el estado incial y objetivo"
   ]
  },
  {
   "cell_type": "code",
   "execution_count": 11,
   "id": "8e5c422e-f04e-4574-ae0f-b9879c52c7fa",
   "metadata": {},
   "outputs": [],
   "source": [
    "initial_state = [Proposition('On', 'C,A'), Proposition('OnTable', 'A'), Proposition('OnTable', 'B'), Proposition('Clear', 'C'), Proposition('Clear', 'B'), Proposition('HandEmpty')]\n",
    "goal = [Proposition('On', 'A,B'), Proposition('On','B,C')]"
   ]
  },
  {
   "cell_type": "markdown",
   "id": "de80be38-bc6e-41cd-995d-c6cbbf4669ab",
   "metadata": {},
   "source": [
    "Realizamos la búsqueda del plan con el algoritmo A* y la heurística del Fast Forward Planner"
   ]
  },
  {
   "cell_type": "code",
   "execution_count": 12,
   "id": "c4f9df62-be68-45f9-8ced-3a72aaae30c1",
   "metadata": {},
   "outputs": [],
   "source": [
    "node = Node(initial_state, 0, float('inf'), [])"
   ]
  },
  {
   "cell_type": "code",
   "execution_count": 13,
   "id": "85ba4c2c-6ae6-4894-b99f-cd9612a1970c",
   "metadata": {},
   "outputs": [],
   "source": [
    "actions = [\n",
    "    pickUpA,\n",
    "    pickUpB,\n",
    "    pickUpC,\n",
    "    putDownA,\n",
    "    putDownB,\n",
    "    putDownC,\n",
    "    stackAB,\n",
    "    stackBA,\n",
    "    stackAC,\n",
    "    stackCA,\n",
    "    stackBC,\n",
    "    stackCB,\n",
    "    unstackAB,\n",
    "    unstackBA,\n",
    "    unstackAC,\n",
    "    unstackCA,\n",
    "    unstackBC,\n",
    "    unstackCB\n",
    "]"
   ]
  },
  {
   "cell_type": "code",
   "execution_count": 14,
   "id": "d81d675d-cf20-4988-a76d-41a885ef24a5",
   "metadata": {},
   "outputs": [],
   "source": [
    "plan = fastforward_A_star(node, goal, actions)"
   ]
  },
  {
   "cell_type": "code",
   "execution_count": 15,
   "id": "ce439e05-81d3-4fde-aa76-48ee3d77e3bd",
   "metadata": {},
   "outputs": [],
   "source": [
    "plan = ' -> '.join([str(x) for x in plan])"
   ]
  },
  {
   "cell_type": "code",
   "execution_count": 16,
   "id": "43789969-12ea-44e5-b165-4d4d4cbe5c72",
   "metadata": {},
   "outputs": [
    {
     "data": {
      "text/plain": [
       "'Unstack C from A -> Put down C -> Pick Up B -> Stack B on C -> Pick Up A -> Stack A on B'"
      ]
     },
     "execution_count": 16,
     "metadata": {},
     "output_type": "execute_result"
    }
   ],
   "source": [
    "plan"
   ]
  },
  {
   "cell_type": "markdown",
   "id": "accbbffb-93e6-4d43-99b0-f67ab9e0898b",
   "metadata": {},
   "source": [
    "Finalmente obtenemos el plan el cual consiste en:\n",
    "1. Desapliar C de A\n",
    "2. Poner C en la mesa\n",
    "3. Recoger B\n",
    "4. Apilar B sobre C\n",
    "5. Recoger A\n",
    "6. Apilar A sobre B\n"
   ]
  }
 ],
 "metadata": {
  "kernelspec": {
   "display_name": "Python 3 (ipykernel)",
   "language": "python",
   "name": "python3"
  },
  "language_info": {
   "codemirror_mode": {
    "name": "ipython",
    "version": 3
   },
   "file_extension": ".py",
   "mimetype": "text/x-python",
   "name": "python",
   "nbconvert_exporter": "python",
   "pygments_lexer": "ipython3",
   "version": "3.10.5"
  }
 },
 "nbformat": 4,
 "nbformat_minor": 5
}
