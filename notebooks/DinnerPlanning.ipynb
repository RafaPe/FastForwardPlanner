{
 "cells": [
  {
   "cell_type": "code",
   "execution_count": 1,
   "id": "62ce5c1f-dba4-4f48-9b0f-41c0633affd1",
   "metadata": {},
   "outputs": [],
   "source": [
    "import sys\n",
    "import os\n",
    "\n",
    "# Add the parent directory to the system path\n",
    "sys.path.append(\"../\")"
   ]
  },
  {
   "cell_type": "code",
   "execution_count": 2,
   "id": "4b4351ce-a9c2-4344-8102-0e106c05d89b",
   "metadata": {},
   "outputs": [],
   "source": [
    "from GraphPlanning import Proposition, Action, Node, A_star"
   ]
  },
  {
   "cell_type": "code",
   "execution_count": 3,
   "id": "2df28c85-05c8-4780-b429-7d0a1ed565ed",
   "metadata": {},
   "outputs": [],
   "source": [
    "cook = Action(\n",
    "    'Cook', \n",
    "    [Proposition('CleanHands')],            \n",
    "    [], \n",
    "    [Proposition('Dinner')],\n",
    ")\n",
    "\n",
    "wrap = Action(\n",
    "    'Wrap present', \n",
    "    [Proposition('Quiet')],            \n",
    "    [], \n",
    "    [Proposition('Present')],\n",
    ")\n",
    "\n",
    "carry = Action(\n",
    "    'Carry garbage', \n",
    "    [],            \n",
    "    [Proposition('Garbage'), Proposition('CleanHands')], \n",
    "    [~Proposition('Garbage'), ~Proposition('CleanHands')],\n",
    ")\n",
    "\n",
    "dolly = Action(\n",
    "    'Dolly garbage', \n",
    "    [],            \n",
    "    [Proposition('Garbage'), Proposition('Quiet')], \n",
    "    [~Proposition('Garbage'), ~Proposition('Quiet')],\n",
    ")"
   ]
  },
  {
   "cell_type": "code",
   "execution_count": 4,
   "id": "a41595a1-1195-4992-9f4d-b6f6daaceb1a",
   "metadata": {},
   "outputs": [],
   "source": [
    "initial_state = [Proposition('CleanHands'), Proposition('Quiet'), Proposition('Garbage')]\n",
    "goal = [Proposition('Dinner'), Proposition('Present'), ~Proposition('Garbage')]"
   ]
  },
  {
   "cell_type": "code",
   "execution_count": 5,
   "id": "a61f6489-8c48-42d5-87c2-71526d8f3f8b",
   "metadata": {},
   "outputs": [],
   "source": [
    "node = Node(initial_state, 0, float('inf'), [])"
   ]
  },
  {
   "cell_type": "code",
   "execution_count": 6,
   "id": "a726cff8-1041-424b-8a2c-2508da0596a3",
   "metadata": {},
   "outputs": [],
   "source": [
    "plan = A_star(node, goal, [cook, wrap, carry, dolly])"
   ]
  },
  {
   "cell_type": "code",
   "execution_count": 9,
   "id": "db489296-7682-4664-b735-fcdea8edf5e4",
   "metadata": {},
   "outputs": [],
   "source": [
    "plan = ' -> '.join([str(x) for x in plan])"
   ]
  },
  {
   "cell_type": "code",
   "execution_count": 10,
   "id": "edcdae6b-79e7-4b04-b03b-c202299d2557",
   "metadata": {},
   "outputs": [
    {
     "data": {
      "text/plain": [
       "'Cook -> Wrap present -> Carry garbage'"
      ]
     },
     "execution_count": 10,
     "metadata": {},
     "output_type": "execute_result"
    }
   ],
   "source": [
    "plan"
   ]
  }
 ],
 "metadata": {
  "kernelspec": {
   "display_name": "Python 3 (ipykernel)",
   "language": "python",
   "name": "python3"
  },
  "language_info": {
   "codemirror_mode": {
    "name": "ipython",
    "version": 3
   },
   "file_extension": ".py",
   "mimetype": "text/x-python",
   "name": "python",
   "nbconvert_exporter": "python",
   "pygments_lexer": "ipython3",
   "version": "3.10.5"
  }
 },
 "nbformat": 4,
 "nbformat_minor": 5
}
