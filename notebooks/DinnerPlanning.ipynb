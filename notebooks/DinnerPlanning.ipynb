{
 "cells": [
  {
   "cell_type": "markdown",
   "id": "0adae45b-dce9-4727-8e12-c15267363902",
   "metadata": {},
   "source": [
    "# Cena Sorpresa"
   ]
  },
  {
   "cell_type": "markdown",
   "id": "375c3db2-fa96-4e4c-945f-5bf576ef2774",
   "metadata": {},
   "source": [
    "En este ejemplo, vamos a planificar la preparación de una cena sorpresa para tu pareja, quien está dormida. Queremos asegurarnos de que todo esté listo sin despertarla y de que la casa esté limpia y ordenada."
   ]
  },
  {
   "cell_type": "markdown",
   "id": "09c56a85-2316-4643-8666-aecf2d749cf1",
   "metadata": {},
   "source": [
    "**Estado Inicial y Estado Objetivo**\n",
    "\n",
    "Estado Inicial:\n",
    "\n",
    "- manos limpias (cleanHands)\n",
    "- silencio (quiet)\n",
    "- basura presente (garbage)\n",
    "\n",
    "Estado Objetivo:\n",
    "\n",
    "- cena preparada (dinner)\n",
    "- regalo envuelto (present)\n",
    "- basura eliminada (~garbage)"
   ]
  },
  {
   "cell_type": "markdown",
   "id": "7b9d06ba-f87a-4bdf-8c48-9b2d9e6fe1bf",
   "metadata": {},
   "source": [
    "Las acciones disponibles para alcanzar nuestro objetivo son:\n",
    "\n",
    "Cocinar (cook)\n",
    "\n",
    "- Precondiciones: manos limpias (cleanHands)\n",
    "- Efectos: cena preparada (dinner)\n",
    "\n",
    "Envolver (wrap)\n",
    "\n",
    "- Precondiciones: silencio (quiet)\n",
    "- Efectos: regalo envuelto (present)\n",
    "\n",
    "Transportar (carry)\n",
    "\n",
    "- Precondiciones: ninguna\n",
    "- Efectos: basura eliminada (~ garbage), manos sucias (~ cleanHands)\n",
    "\n",
    "Usar el carrito (dolly)\n",
    "\n",
    "- Precondiciones: ninguna\n",
    "- Efectos: basura eliminada (~ garbage), ruido (~ quiet)"
   ]
  },
  {
   "cell_type": "code",
   "execution_count": 1,
   "id": "62ce5c1f-dba4-4f48-9b0f-41c0633affd1",
   "metadata": {},
   "outputs": [],
   "source": [
    "import sys\n",
    "import os\n",
    "\n",
    "# Add the parent directory to the system path\n",
    "sys.path.append(\"../\")"
   ]
  },
  {
   "cell_type": "code",
   "execution_count": 2,
   "id": "4b4351ce-a9c2-4344-8102-0e106c05d89b",
   "metadata": {},
   "outputs": [],
   "source": [
    "from GraphPlanning import Proposition, Action, Node, fastforward_A_star"
   ]
  },
  {
   "cell_type": "markdown",
   "id": "2d6d3500-28bf-4876-ac92-aedebe4f0687",
   "metadata": {},
   "source": [
    "Definimos las acciones, donde para cada acción tendremos un nombre, una lista de precondiciones, una lista de literales por borrar y una lista de efectos (literales que se agregan)"
   ]
  },
  {
   "cell_type": "code",
   "execution_count": 3,
   "id": "2df28c85-05c8-4780-b429-7d0a1ed565ed",
   "metadata": {},
   "outputs": [],
   "source": [
    "cook = Action(\n",
    "    'Cook', \n",
    "    [Proposition('CleanHands')],            \n",
    "    [], \n",
    "    [Proposition('Dinner')],\n",
    ")\n",
    "\n",
    "wrap = Action(\n",
    "    'Wrap present', \n",
    "    [Proposition('Quiet')],            \n",
    "    [], \n",
    "    [Proposition('Present')],\n",
    ")\n",
    "\n",
    "carry = Action(\n",
    "    'Carry garbage', \n",
    "    [],            \n",
    "    [Proposition('Garbage'), Proposition('CleanHands')], \n",
    "    [~Proposition('Garbage'), ~Proposition('CleanHands')],\n",
    ")\n",
    "\n",
    "dolly = Action(\n",
    "    'Dolly garbage', \n",
    "    [],            \n",
    "    [Proposition('Garbage'), Proposition('Quiet')], \n",
    "    [~Proposition('Garbage'), ~Proposition('Quiet')],\n",
    ")"
   ]
  },
  {
   "cell_type": "markdown",
   "id": "e1dedeee-6406-4631-981a-1f875fd33444",
   "metadata": {},
   "source": [
    "Ahora definimos el estado incial y objetivo, y realizamos la búsqueda del plan con el algoritmo A* y la heurística del Fast Forward Planner"
   ]
  },
  {
   "cell_type": "code",
   "execution_count": 4,
   "id": "a41595a1-1195-4992-9f4d-b6f6daaceb1a",
   "metadata": {},
   "outputs": [],
   "source": [
    "initial_state = [Proposition('CleanHands'), Proposition('Quiet'), Proposition('Garbage')]\n",
    "goal = [Proposition('Dinner'), Proposition('Present'), ~Proposition('Garbage')]"
   ]
  },
  {
   "cell_type": "code",
   "execution_count": 5,
   "id": "a61f6489-8c48-42d5-87c2-71526d8f3f8b",
   "metadata": {},
   "outputs": [],
   "source": [
    "node = Node(initial_state, 0, float('inf'), [])"
   ]
  },
  {
   "cell_type": "code",
   "execution_count": 6,
   "id": "a726cff8-1041-424b-8a2c-2508da0596a3",
   "metadata": {},
   "outputs": [],
   "source": [
    "plan = fastforward_A_star(node, goal, [cook, wrap, carry, dolly])"
   ]
  },
  {
   "cell_type": "code",
   "execution_count": 7,
   "id": "db489296-7682-4664-b735-fcdea8edf5e4",
   "metadata": {},
   "outputs": [],
   "source": [
    "plan = ' -> '.join([str(x) for x in plan])"
   ]
  },
  {
   "cell_type": "code",
   "execution_count": 8,
   "id": "edcdae6b-79e7-4b04-b03b-c202299d2557",
   "metadata": {},
   "outputs": [
    {
     "data": {
      "text/plain": [
       "'Cook -> Wrap present -> Carry garbage'"
      ]
     },
     "execution_count": 8,
     "metadata": {},
     "output_type": "execute_result"
    }
   ],
   "source": [
    "plan"
   ]
  }
 ],
 "metadata": {
  "kernelspec": {
   "display_name": "Python 3 (ipykernel)",
   "language": "python",
   "name": "python3"
  },
  "language_info": {
   "codemirror_mode": {
    "name": "ipython",
    "version": 3
   },
   "file_extension": ".py",
   "mimetype": "text/x-python",
   "name": "python",
   "nbconvert_exporter": "python",
   "pygments_lexer": "ipython3",
   "version": "3.10.5"
  }
 },
 "nbformat": 4,
 "nbformat_minor": 5
}
