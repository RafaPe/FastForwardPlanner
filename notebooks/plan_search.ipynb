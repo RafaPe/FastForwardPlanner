{
 "cells": [
  {
   "cell_type": "markdown",
   "id": "6cd9d270-d6fa-4880-b9f2-e948a8f86dc4",
   "metadata": {},
   "source": [
    "# Planning Graph Search"
   ]
  },
  {
   "cell_type": "code",
   "execution_count": 60,
   "id": "ecf65e34-d1df-4fb8-af9a-69c58813577c",
   "metadata": {},
   "outputs": [],
   "source": [
    "import copy\n",
    "import numpy"
   ]
  },
  {
   "cell_type": "code",
   "execution_count": 61,
   "id": "417a3d3c-d507-44ef-9cd5-129dde481c7f",
   "metadata": {},
   "outputs": [],
   "source": [
    "initial_state = []"
   ]
  },
  {
   "cell_type": "code",
   "execution_count": 62,
   "id": "6624ab57-8f24-4d12-b6f0-b014709b246a",
   "metadata": {},
   "outputs": [],
   "source": [
    "class In:\n",
    "    def __init__(self, obj, place, negation = False):\n",
    "        self.object = obj\n",
    "        self.place = place\n",
    "        self.negation = negation\n",
    "        \n",
    "    def __hash__(self):\n",
    "        return hash((self.object, self.place, self.negation))\n",
    "        \n",
    "    def __eq__(self, other):\n",
    "        return isinstance(other, In) and self.object == other.object and self.place == other.place and self.negation == other.negation\n",
    "    \n",
    "    def __invert__(self):\n",
    "        if self.negation:\n",
    "             return In(self.object, self.place, negation = False)\n",
    "        else:\n",
    "            return In(self.object, self.place, negation = True)\n",
    "        \n",
    "    \n",
    "       \n",
    "    def __str__(self):\n",
    "        if self.negation:\n",
    "            return f'~In({self.object}, {self.place})'\n",
    "        else:   \n",
    "            return f'In({self.object}, {self.place})'\n",
    "        \n",
    "\n",
    "class Holding:\n",
    "    def __init__(self, obj, negation = False):\n",
    "        self.object = obj\n",
    "        self.negation = negation\n",
    "        \n",
    "    def __hash__(self):\n",
    "        return hash((self.object, self.negation))\n",
    "        \n",
    "    def __eq__(self, other):\n",
    "        return isinstance(other, Holding) and self.object == other.object and self.negation == other.negation\n",
    "    \n",
    "    def __invert__(self):\n",
    "        if self.negation:\n",
    "             return Holding(self.object, negation = False)\n",
    "        else:\n",
    "            return Holding(self.object, negation = True)\n",
    "    \n",
    "    def __str__(self):\n",
    "        if self.negation:\n",
    "            return f'~Holding({self.object})'\n",
    "        else:\n",
    "            return f'Holding({self.object})'\n",
    "        \n",
    "class Locked:\n",
    "    def __init__(self, obj, negation = False):\n",
    "        self.object = obj\n",
    "        self.negation = negation\n",
    "        \n",
    "    def __hash__(self):\n",
    "        return hash((self.object, self.negation))\n",
    "        \n",
    "    def __eq__(self, other):\n",
    "        return isinstance(other, Locked) and self.object == other.object and self.negation == other.negation\n",
    "    \n",
    "    def __invert__(self):\n",
    "        if self.negation:\n",
    "             return Locked(self.object, negation = False)\n",
    "        else:\n",
    "            return Locked(self.object, negation = True)\n",
    "        \n",
    "    def __str__(self):\n",
    "        if self.negation:\n",
    "            return f'~Locked({self.object})'\n",
    "        else:\n",
    "            return f'Locked({self.object})'\n",
    "    \n",
    "        \n"
   ]
  },
  {
   "cell_type": "code",
   "execution_count": 63,
   "id": "d7f50dcf-cc07-4b25-9b1e-94e12340279a",
   "metadata": {},
   "outputs": [],
   "source": [
    "initial_state.append(In('Robot', 'R2'))\n",
    "initial_state.append(In('Key', 'R2'))\n",
    "initial_state.append(Locked('Door', negation = True))"
   ]
  },
  {
   "cell_type": "code",
   "execution_count": 64,
   "id": "a2f9297d-c42f-431d-ab3b-050e176f79da",
   "metadata": {},
   "outputs": [
    {
     "name": "stdout",
     "output_type": "stream",
     "text": [
      "In(Robot, R2) ^ In(Key, R2) ^ ~Locked(Door)\n"
     ]
    }
   ],
   "source": [
    "print(' ^ '.join([str(x) for x in initial_state]))"
   ]
  },
  {
   "cell_type": "code",
   "execution_count": 65,
   "id": "ae221900-7d6d-4d1e-b793-e4c96e02e80a",
   "metadata": {},
   "outputs": [],
   "source": [
    "class GraspKey:\n",
    "    def __init__(self):\n",
    "        self.preconditions = [In('Robot', 'R2'), In('Key', 'R2')]\n",
    "        self.implications = [~In('Robot', 'R1'), ~In('Key', 'R1')]\n",
    "        self.delete = []\n",
    "        self.effect = [Holding('Key')]\n",
    "    def action(self, state):\n",
    "        state = copy.deepcopy(state)\n",
    "        if all(precondition in state for precondition in self.preconditions):\n",
    "            for element in self.delete:\n",
    "                state.remove(element)\n",
    "            for element in self.effect:\n",
    "                state.append(element)\n",
    "        return list(set(state))\n",
    "    def __str__(self):\n",
    "        return f'Grasp Key'\n",
    "    \n",
    "class LockDoor:\n",
    "    def __init__(self):\n",
    "        self.preconditions = [Holding('Key'), ~Locked('Door')]\n",
    "        self.implications = []\n",
    "        self.delete = [~Locked('Door')]\n",
    "        self.effect = [Locked('Door')]\n",
    "    def action(self, state):\n",
    "        state = copy.deepcopy(state)\n",
    "        if all(precondition in state for precondition in self.preconditions):\n",
    "            for element in self.delete:\n",
    "                state.remove(element)\n",
    "            for element in self.effect:\n",
    "                state.append(element)\n",
    "        return list(set(state))\n",
    "    def __str__(self):\n",
    "        return f'Lock Door'\n",
    "    \n",
    "class PutKeyIntoBox:\n",
    "    def __init__(self):\n",
    "        self.preconditions = [In('Robot', 'R1'),Holding('Key'), In('Key', 'R1')]\n",
    "        self.implications = [~In('Robot', 'R2'), ~In('Key', 'R2')]\n",
    "        self.delete = [Holding('Key'), In('Key', 'R1')]\n",
    "        self.effect = [In('Key', 'Box')]\n",
    "    def action(self, state):\n",
    "        state = copy.deepcopy(state)\n",
    "        if all(precondition in state for precondition in self.preconditions):\n",
    "            for element in self.delete:\n",
    "                state.remove(element)\n",
    "            for element in self.effect:\n",
    "                state.append(element)\n",
    "        return list(set(state))\n",
    "    def __str__(self):\n",
    "        return f'Put the key into the box'\n",
    "    \n",
    "class Move:\n",
    "    def __init__(self, from_, to_):\n",
    "        self.ubication = from_\n",
    "        self.destiny = to_\n",
    "        self.preconditions = [~Locked('Door'), In('Robot', self.ubication)]\n",
    "        self.implications = [~In('Robot', self.destiny)]\n",
    "        self.delete = [In('Robot', self.ubication)]\n",
    "        self.effect = [In('Robot', self.destiny)]\n",
    "    def action(self, state):\n",
    "        if Holding('Key') in state:\n",
    "            self.delete.append(In('Key', self.ubication))\n",
    "            self.effect.append(In('Key', self.destiny))\n",
    "        state = copy.deepcopy(state)\n",
    "        if all(precondition in state for precondition in self.preconditions):\n",
    "            for element in self.delete:\n",
    "                if element in state:\n",
    "                    state.remove(element)\n",
    "            for element in self.effect:\n",
    "                state.append(element)\n",
    "        return list(set(state))\n",
    "    def __str__(self):\n",
    "        return f'Move from {self.ubication} to {self.destiny}'\n",
    "        \n",
    "    "
   ]
  },
  {
   "cell_type": "code",
   "execution_count": 66,
   "id": "11b94c8b-e5ed-43c2-ab74-c33aaf26b9c3",
   "metadata": {},
   "outputs": [],
   "source": [
    "def mutex(action1, action2):\n",
    "    if any(elem in action1.delete for elem in action2.effect):\n",
    "        return True\n",
    "    if any(elem in action1.effect for elem in action2.delete):\n",
    "        return True\n",
    "    if any(elem in action1.delete for elem in action2.preconditions):\n",
    "        return True\n",
    "    if any(elem in action1.preconditions for elem in action2.delete):\n",
    "        return True\n",
    "    if any(~elem in action1.implications for elem in action2.preconditions):\n",
    "        return True\n",
    "    if any(~elem in action1.preconditions for elem in action2.implications):\n",
    "        return True\n",
    "    if any(elem in action1.effect for elem in action2.preconditions):\n",
    "        return True\n",
    "    if any(elem in action1.preconditions for elem in action2.effect):\n",
    "        return True\n",
    "    \n",
    "    return False"
   ]
  },
  {
   "cell_type": "code",
   "execution_count": null,
   "id": "b3a918bd-bce2-4927-ae3a-a78215c07144",
   "metadata": {},
   "outputs": [],
   "source": []
  },
  {
   "cell_type": "code",
   "execution_count": 67,
   "id": "cfdf2c27-7268-41cb-b9cc-7bd4776aaa68",
   "metadata": {},
   "outputs": [],
   "source": [
    "def build_plan_graph(state, goal):\n",
    "    grasp = GraspKey()\n",
    "    lock = LockDoor()\n",
    "    pk = PutKeyIntoBox()\n",
    "    mv1 = Move('R2', 'R1')\n",
    "    mv2 = Move('R1', 'R2')\n",
    "    \n",
    "    graph_levels = [state]\n",
    "    \n",
    "    i = 0\n",
    "    while(True):\n",
    "        # print(f'LEVEL {i+1}')\n",
    "        new_level = [*graph_levels[i]]\n",
    "        new_literals = grasp.action(graph_levels[i])\n",
    "        for lit in new_literals:\n",
    "            new_level.append(lit)\n",
    "        new_literals = lock.action(graph_levels[i])\n",
    "        # print(len(new_literals))\n",
    "        for lit in new_literals:\n",
    "            new_level.append(lit)\n",
    "        new_literals = pk.action(graph_levels[i])\n",
    "        for lit in new_literals:\n",
    "            new_level.append(lit)\n",
    "        new_literals = mv1.action(graph_levels[i])\n",
    "        for lit in new_literals:\n",
    "            new_level.append(lit)\n",
    "        new_literals = mv2.action(graph_levels[i])\n",
    "        for lit in new_literals:\n",
    "            new_level.append(lit)\n",
    "    \n",
    "        graph_levels.append(list(set(new_level)))\n",
    "\n",
    "        if all(elem in new_level for elem in goal):\n",
    "            break\n",
    "            \n",
    "        if len(list(set(new_level))) == len(graph_levels[i]):\n",
    "            return []\n",
    "            break\n",
    "        \n",
    "        i += 1\n",
    "            \n",
    "    return graph_levels\n",
    "        \n",
    "        "
   ]
  },
  {
   "cell_type": "code",
   "execution_count": null,
   "id": "0bda472b-342e-495f-a8c2-7abd22425ae8",
   "metadata": {},
   "outputs": [],
   "source": []
  },
  {
   "cell_type": "code",
   "execution_count": 68,
   "id": "07268279-9310-4cc4-9701-27d5cfff7d72",
   "metadata": {},
   "outputs": [],
   "source": [
    "def graph_heuristic(state, goal):\n",
    "    graph = build_plan_graph(state, goal)\n",
    "    if len(graph) > 0:\n",
    "        return len(graph) - 1\n",
    "    else:\n",
    "        return float('inf')"
   ]
  },
  {
   "cell_type": "code",
   "execution_count": 69,
   "id": "6c74c11a-77e2-4a2e-a5c4-afe3da6f09f4",
   "metadata": {},
   "outputs": [],
   "source": [
    "grasp = GraspKey()\n",
    "lock = LockDoor()\n",
    "pk = PutKeyIntoBox()\n",
    "mv1 = Move('R2', 'R1')\n",
    "mv2 = Move('R1', 'R2')"
   ]
  },
  {
   "cell_type": "code",
   "execution_count": 70,
   "id": "9aab22b7-4bf6-4257-873d-acbf66f04190",
   "metadata": {},
   "outputs": [],
   "source": [
    "ac = [grasp, lock, pk, mv1, mv2]"
   ]
  },
  {
   "cell_type": "code",
   "execution_count": 71,
   "id": "5c66085c-05f1-4138-8b5a-58068c9afa5e",
   "metadata": {},
   "outputs": [],
   "source": [
    "def get_possible_actions(action_list):\n",
    "    not_mutex = []\n",
    "    for i in range(len(action_list)):\n",
    "        for j in range(i+1, len(action_list)):\n",
    "            if not mutex(action_list[i], action_list[j]):\n",
    "                # print('alg0')\n",
    "                not_mutex.append([action_list[i], action_list[j]])\n",
    "                \n",
    "    for action in action_list:\n",
    "        not_mutex.append([action])\n",
    "    return not_mutex"
   ]
  },
  {
   "cell_type": "code",
   "execution_count": 72,
   "id": "a8729f62-07f0-4710-a616-354a1bf0cceb",
   "metadata": {},
   "outputs": [],
   "source": [
    "actions = get_possible_actions(ac)"
   ]
  },
  {
   "cell_type": "code",
   "execution_count": 73,
   "id": "00ffd3de-e841-40e7-95da-51064f4d78ab",
   "metadata": {},
   "outputs": [
    {
     "data": {
      "text/plain": [
       "[[<__main__.GraspKey at 0x1327e90b730>],\n",
       " [<__main__.LockDoor at 0x1327e90b970>],\n",
       " [<__main__.PutKeyIntoBox at 0x1327e90bc10>],\n",
       " [<__main__.Move at 0x1327e90b850>],\n",
       " [<__main__.Move at 0x1327ea15b70>]]"
      ]
     },
     "execution_count": 73,
     "metadata": {},
     "output_type": "execute_result"
    }
   ],
   "source": [
    "actions"
   ]
  },
  {
   "cell_type": "code",
   "execution_count": 74,
   "id": "2aecce60-26f0-4ef6-bd28-5f3ee1ef3362",
   "metadata": {},
   "outputs": [],
   "source": [
    "class Node:\n",
    "    def __init__(self, state, cost, heuristic, plan):\n",
    "        self.state = state\n",
    "        self.cost = cost\n",
    "        self.heuristic = heuristic\n",
    "        self.function = cost + heuristic\n",
    "        self.plan = plan"
   ]
  },
  {
   "cell_type": "code",
   "execution_count": 75,
   "id": "48c6f936-48fa-4941-883f-7ef171045b5f",
   "metadata": {},
   "outputs": [],
   "source": [
    "node = Node(initial_state, 0, float('inf'), [])"
   ]
  },
  {
   "cell_type": "code",
   "execution_count": 76,
   "id": "6c1f1fc5-7d76-4e65-b831-5505036e12bd",
   "metadata": {},
   "outputs": [],
   "source": [
    "def A_star(initial_node, goal, actions):\n",
    "    frontier = [initial_node]\n",
    "    while len(frontier) > 0:\n",
    "        node = frontier.pop(0)\n",
    "        # print('------------------------------------------')\n",
    "        # print(' ^ '.join([str(x) for x in node.state]))\n",
    "        # print('------------------------------------------')\n",
    "        if all(elem in node.state for elem in goal):\n",
    "            return node.plan\n",
    "            break\n",
    "        else:\n",
    "            for action in actions:\n",
    "                for sub_action in action:\n",
    "                    # print(sub_action)\n",
    "                    new_state = sub_action.action(node.state)\n",
    "                    # print(' ^ '.join([str(x) for x in new_state]))\n",
    "                   \n",
    "                if all(elem in node.state for elem in new_state) and all(elem in new_state for elem in node.state) :\n",
    "                    pass\n",
    "                else:\n",
    "                    h = graph_heuristic(new_state, goal)\n",
    "                    c = node.cost + 1\n",
    "                    # print(node.plan)\n",
    "                    # print(node.plan.append(action))\n",
    "                    new_node = Node(new_state, c, h, copy.deepcopy(node.plan))\n",
    "                    new_node.plan.append(action)\n",
    "                    # print(' ^ '.join([str(x) for x in new_state]))\n",
    "                    # print(new_node.cost, new_node.heuristic)\n",
    "                    # print(new_node.plan)\n",
    "                    # node.plan.append(str(action))\n",
    "                    # new_node.plan = node.plan\n",
    "                    \n",
    "                    frontier.append(new_node)\n",
    "            \n",
    "            frontier = sorted(frontier, key = lambda x: x.function)\n",
    "    return 'NO HAY RESPUESTA'"
   ]
  },
  {
   "cell_type": "code",
   "execution_count": 77,
   "id": "3ecbc19f-d25e-47e6-983e-0d6e479789a7",
   "metadata": {
    "tags": []
   },
   "outputs": [],
   "source": [
    "node = Node(initial_state, 0, float('inf'), [])\n",
    "goal = [Locked('Door'), In('Key', 'Box')]\n",
    "plan = A_star(node, goal, actions)"
   ]
  },
  {
   "cell_type": "code",
   "execution_count": 78,
   "id": "37d5f21d-f953-4d00-b2ea-a3f8c1bd6acc",
   "metadata": {},
   "outputs": [],
   "source": [
    "plan = ' -> '.join([str(item) for sublist in plan for item in sublist])"
   ]
  },
  {
   "cell_type": "code",
   "execution_count": 79,
   "id": "f196239e-d8fa-44a3-9031-332a839dfa25",
   "metadata": {},
   "outputs": [
    {
     "data": {
      "text/plain": [
       "'Grasp Key -> Move from R2 to R1 -> Lock Door -> Put the key into the box'"
      ]
     },
     "execution_count": 79,
     "metadata": {},
     "output_type": "execute_result"
    }
   ],
   "source": [
    "plan"
   ]
  },
  {
   "cell_type": "code",
   "execution_count": null,
   "id": "920d14eb-b8bb-4bb4-89cc-2c745628610b",
   "metadata": {},
   "outputs": [],
   "source": []
  },
  {
   "cell_type": "code",
   "execution_count": null,
   "id": "1357c106-43b1-49b4-b6f1-ca063df960da",
   "metadata": {},
   "outputs": [],
   "source": []
  },
  {
   "cell_type": "code",
   "execution_count": null,
   "id": "9ad2f836-d062-4533-87cd-5dbfcd236a61",
   "metadata": {},
   "outputs": [],
   "source": []
  }
 ],
 "metadata": {
  "kernelspec": {
   "display_name": "Python 3 (ipykernel)",
   "language": "python",
   "name": "python3"
  },
  "language_info": {
   "codemirror_mode": {
    "name": "ipython",
    "version": 3
   },
   "file_extension": ".py",
   "mimetype": "text/x-python",
   "name": "python",
   "nbconvert_exporter": "python",
   "pygments_lexer": "ipython3",
   "version": "3.10.5"
  }
 },
 "nbformat": 4,
 "nbformat_minor": 5
}
