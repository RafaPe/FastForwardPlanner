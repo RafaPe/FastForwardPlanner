{
 "cells": [
  {
   "cell_type": "markdown",
   "id": "local-board",
   "metadata": {},
   "source": [
    "# Planning Graph Search"
   ]
  },
  {
   "cell_type": "code",
   "execution_count": 1,
   "id": "caring-facial",
   "metadata": {},
   "outputs": [],
   "source": [
    "import copy\n",
    "import numpy"
   ]
  },
  {
   "cell_type": "code",
   "execution_count": 2,
   "id": "similar-designation",
   "metadata": {},
   "outputs": [],
   "source": [
    "initial_state = []"
   ]
  },
  {
   "cell_type": "code",
   "execution_count": 3,
   "id": "banned-miracle",
   "metadata": {},
   "outputs": [],
   "source": [
    "class In:\n",
    "    def __init__(self, obj, place, negation = False):\n",
    "        self.object = obj\n",
    "        self.place = place\n",
    "        self.negation = negation\n",
    "        \n",
    "    def __hash__(self):\n",
    "        return hash((self.object, self.place, self.negation))\n",
    "        \n",
    "    def __eq__(self, other):\n",
    "        return isinstance(other, In) and self.object == other.object and self.place == other.place and self.negation == other.negation\n",
    "    \n",
    "    def __invert__(self):\n",
    "        if self.negation:\n",
    "             return In(self.object, self.place, negation = False)\n",
    "        else:\n",
    "            return In(self.object, self.place, negation = True)\n",
    "        \n",
    "    \n",
    "       \n",
    "    def __str__(self):\n",
    "        if self.negation:\n",
    "            return f'~In({self.object}, {self.place})'\n",
    "        else:   \n",
    "            return f'In({self.object}, {self.place})'\n",
    "        \n",
    "\n",
    "class Holding:\n",
    "    def __init__(self, obj, negation = False):\n",
    "        self.object = obj\n",
    "        self.negation = negation\n",
    "        \n",
    "    def __hash__(self):\n",
    "        return hash((self.object, self.negation))\n",
    "        \n",
    "    def __eq__(self, other):\n",
    "        return isinstance(other, Holding) and self.object == other.object and self.negation == other.negation\n",
    "    \n",
    "    def __invert__(self):\n",
    "        if self.negation:\n",
    "             return Holding(self.object, negation = False)\n",
    "        else:\n",
    "            return Holding(self.object, negation = True)\n",
    "    \n",
    "    def __str__(self):\n",
    "        if self.negation:\n",
    "            return f'~Holding({self.object})'\n",
    "        else:\n",
    "            return f'Holding({self.object})'\n",
    "        \n",
    "class Locked:\n",
    "    def __init__(self, obj, negation = False):\n",
    "        self.object = obj\n",
    "        self.negation = negation\n",
    "        \n",
    "    def __hash__(self):\n",
    "        return hash((self.object, self.negation))\n",
    "        \n",
    "    def __eq__(self, other):\n",
    "        return isinstance(other, Locked) and self.object == other.object and self.negation == other.negation\n",
    "    \n",
    "    def __invert__(self):\n",
    "        if self.negation:\n",
    "             return Locked(self.object, negation = False)\n",
    "        else:\n",
    "            return Locked(self.object, negation = True)\n",
    "        \n",
    "    def __str__(self):\n",
    "        if self.negation:\n",
    "            return f'~Locked({self.object})'\n",
    "        else:\n",
    "            return f'Locked({self.object})'\n",
    "    \n",
    "        \n"
   ]
  },
  {
   "cell_type": "code",
   "execution_count": 4,
   "id": "welcome-trouble",
   "metadata": {},
   "outputs": [],
   "source": [
    "initial_state.append(In('Robot', 'R2'))\n",
    "initial_state.append(In('Key', 'R2'))\n",
    "initial_state.append(Locked('Door', negation = True))"
   ]
  },
  {
   "cell_type": "code",
   "execution_count": 5,
   "id": "enclosed-lover",
   "metadata": {},
   "outputs": [
    {
     "name": "stdout",
     "output_type": "stream",
     "text": [
      "In(Robot, R2) ^ In(Key, R2) ^ ~Locked(Door)\n"
     ]
    }
   ],
   "source": [
    "print(' ^ '.join([str(x) for x in initial_state]))"
   ]
  },
  {
   "cell_type": "code",
   "execution_count": 6,
   "id": "lucky-peace",
   "metadata": {},
   "outputs": [],
   "source": [
    "class GraspKey:\n",
    "    def __init__(self):\n",
    "        self.preconditions = [In('Robot', 'R2'), In('Key', 'R2')]\n",
    "        self.implications = [~In('Robot', 'R1'), ~In('Key', 'R1')]\n",
    "        self.delete = []\n",
    "        self.effect = [Holding('Key')]\n",
    "    def action(self, state):\n",
    "        state = copy.deepcopy(state)\n",
    "        if all(precondition in state for precondition in self.preconditions):\n",
    "            for element in self.delete:\n",
    "                state.remove(element)\n",
    "            for element in self.effect:\n",
    "                state.append(element)\n",
    "        return list(set(state))\n",
    "    def __str__(self):\n",
    "        return f'Grasp Key'\n",
    "    \n",
    "class LockDoor:\n",
    "    def __init__(self):\n",
    "        self.preconditions = [Holding('Key'), ~Locked('Door')]\n",
    "        self.implications = []\n",
    "        self.delete = [~Locked('Door')]\n",
    "        self.effect = [Locked('Door')]\n",
    "    def action(self, state):\n",
    "        state = copy.deepcopy(state)\n",
    "        if all(precondition in state for precondition in self.preconditions):\n",
    "            for element in self.delete:\n",
    "                state.remove(element)\n",
    "            for element in self.effect:\n",
    "                state.append(element)\n",
    "        return list(set(state))\n",
    "    def __str__(self):\n",
    "        return f'Lock Door'\n",
    "    \n",
    "class PutKeyIntoBox:\n",
    "    def __init__(self):\n",
    "        self.preconditions = [In('Robot', 'R1'),Holding('Key'), In('Key', 'R1')]\n",
    "        self.implications = [~In('Robot', 'R2'), ~In('Key', 'R2')]\n",
    "        self.delete = [Holding('Key'), In('Key', 'R1')]\n",
    "        self.effect = [In('Key', 'Box')]\n",
    "    def action(self, state):\n",
    "        state = copy.deepcopy(state)\n",
    "        if all(precondition in state for precondition in self.preconditions):\n",
    "            for element in self.delete:\n",
    "                state.remove(element)\n",
    "            for element in self.effect:\n",
    "                state.append(element)\n",
    "        return list(set(state))\n",
    "    def __str__(self):\n",
    "        return f'Put the key into the box'\n",
    "    \n",
    "class Move:\n",
    "    def __init__(self, from_, to_):\n",
    "        self.ubication = from_\n",
    "        self.destiny = to_\n",
    "        self.preconditions = [~Locked('Door'), In('Robot', self.ubication)]\n",
    "        self.implications = [~In('Robot', self.destiny)]\n",
    "        self.delete = [In('Robot', self.ubication)]\n",
    "        self.effect = [In('Robot', self.destiny)]\n",
    "    def action(self, state):\n",
    "        if Holding('Key') in state:\n",
    "            self.delete.append(In('Key', self.ubication))\n",
    "            self.effect.append(In('Key', self.destiny))\n",
    "        state = copy.deepcopy(state)\n",
    "        if all(precondition in state for precondition in self.preconditions):\n",
    "            for element in self.delete:\n",
    "                if element in state:\n",
    "                    state.remove(element)\n",
    "            for element in self.effect:\n",
    "                state.append(element)\n",
    "        return list(set(state))\n",
    "    def __str__(self):\n",
    "        return f'Move from {self.ubication} to {self.destiny}'\n",
    "        \n",
    "    "
   ]
  },
  {
   "cell_type": "code",
   "execution_count": 7,
   "id": "optimum-rover",
   "metadata": {},
   "outputs": [],
   "source": [
    "def mutex(action1, action2):\n",
    "    if any(elem in action1.delete for elem in action2.effect):\n",
    "        return True\n",
    "    if any(elem in action1.effect for elem in action2.delete):\n",
    "        return True\n",
    "    if any(elem in action1.delete for elem in action2.preconditions):\n",
    "        return True\n",
    "    if any(elem in action1.preconditions for elem in action2.delete):\n",
    "        return True\n",
    "    if any(~elem in action1.implications for elem in action2.preconditions):\n",
    "        return True\n",
    "    if any(~elem in action1.preconditions for elem in action2.implications):\n",
    "        return True\n",
    "    if any(elem in action1.effect for elem in action2.preconditions):\n",
    "        return True\n",
    "    if any(elem in action1.preconditions for elem in action2.effect):\n",
    "        return True\n",
    "    \n",
    "    return False"
   ]
  },
  {
   "cell_type": "code",
   "execution_count": null,
   "id": "engaged-meeting",
   "metadata": {},
   "outputs": [],
   "source": []
  },
  {
   "cell_type": "code",
   "execution_count": 8,
   "id": "bizarre-kazakhstan",
   "metadata": {},
   "outputs": [],
   "source": [
    "def build_plan_graph(state, goal):\n",
    "    grasp = GraspKey()\n",
    "    lock = LockDoor()\n",
    "    pk = PutKeyIntoBox()\n",
    "    mv1 = Move('R2', 'R1')\n",
    "    mv2 = Move('R1', 'R2')\n",
    "    \n",
    "    graph_levels = [state]\n",
    "    \n",
    "    i = 0\n",
    "    while(True):\n",
    "        # print(f'LEVEL {i+1}')\n",
    "        new_level = [*graph_levels[i]]\n",
    "        new_literals = grasp.action(graph_levels[i])\n",
    "        for lit in new_literals:\n",
    "            new_level.append(lit)\n",
    "        new_literals = lock.action(graph_levels[i])\n",
    "        # print(len(new_literals))\n",
    "        for lit in new_literals:\n",
    "            new_level.append(lit)\n",
    "        new_literals = pk.action(graph_levels[i])\n",
    "        for lit in new_literals:\n",
    "            new_level.append(lit)\n",
    "        new_literals = mv1.action(graph_levels[i])\n",
    "        for lit in new_literals:\n",
    "            new_level.append(lit)\n",
    "        new_literals = mv2.action(graph_levels[i])\n",
    "        for lit in new_literals:\n",
    "            new_level.append(lit)\n",
    "    \n",
    "        graph_levels.append(list(set(new_level)))\n",
    "\n",
    "        if all(elem in new_level for elem in goal):\n",
    "            break\n",
    "            \n",
    "        if len(list(set(new_level))) == len(graph_levels[i]):\n",
    "            return []\n",
    "            break\n",
    "        \n",
    "        i += 1\n",
    "            \n",
    "    return graph_levels\n",
    "        \n",
    "        "
   ]
  },
  {
   "cell_type": "code",
   "execution_count": null,
   "id": "higher-server",
   "metadata": {},
   "outputs": [],
   "source": []
  },
  {
   "cell_type": "code",
   "execution_count": 9,
   "id": "ready-statistics",
   "metadata": {},
   "outputs": [],
   "source": [
    "def graph_heuristic(state, goal):\n",
    "    graph = build_plan_graph(state, goal)\n",
    "    if len(graph) > 0:\n",
    "        return len(graph) - 1\n",
    "    else:\n",
    "        return float('inf')"
   ]
  },
  {
   "cell_type": "code",
   "execution_count": 10,
   "id": "capable-interval",
   "metadata": {},
   "outputs": [],
   "source": [
    "grasp = GraspKey()\n",
    "lock = LockDoor()\n",
    "pk = PutKeyIntoBox()\n",
    "mv1 = Move('R2', 'R1')\n",
    "mv2 = Move('R1', 'R2')"
   ]
  },
  {
   "cell_type": "code",
   "execution_count": 11,
   "id": "racial-latter",
   "metadata": {},
   "outputs": [],
   "source": [
    "ac = [grasp, lock, pk, mv1, mv2]"
   ]
  },
  {
   "cell_type": "code",
   "execution_count": 12,
   "id": "ignored-girlfriend",
   "metadata": {},
   "outputs": [],
   "source": [
    "def get_possible_actions(action_list):\n",
    "    not_mutex = []\n",
    "    for i in range(len(action_list)):\n",
    "        for j in range(i+1, len(action_list)):\n",
    "            if not mutex(action_list[i], action_list[j]):\n",
    "                # print('alg0')\n",
    "                not_mutex.append([action_list[i], action_list[j]])\n",
    "                \n",
    "    for action in action_list:\n",
    "        not_mutex.append([action])\n",
    "    return not_mutex"
   ]
  },
  {
   "cell_type": "code",
   "execution_count": 13,
   "id": "distributed-doubt",
   "metadata": {},
   "outputs": [],
   "source": [
    "actions = get_possible_actions(ac)"
   ]
  },
  {
   "cell_type": "code",
   "execution_count": 14,
   "id": "least-bouquet",
   "metadata": {},
   "outputs": [
    {
     "data": {
      "text/plain": [
       "[[<__main__.GraspKey at 0x221177f2160>],\n",
       " [<__main__.LockDoor at 0x221177f2040>],\n",
       " [<__main__.PutKeyIntoBox at 0x221177f25e0>],\n",
       " [<__main__.Move at 0x221177f2d60>],\n",
       " [<__main__.Move at 0x221177fea00>]]"
      ]
     },
     "execution_count": 14,
     "metadata": {},
     "output_type": "execute_result"
    }
   ],
   "source": [
    "actions"
   ]
  },
  {
   "cell_type": "code",
   "execution_count": 15,
   "id": "tested-accent",
   "metadata": {},
   "outputs": [],
   "source": [
    "class Node:\n",
    "    def __init__(self, state, cost, heuristic, plan):\n",
    "        self.state = state\n",
    "        self.cost = cost\n",
    "        self.heuristic = heuristic\n",
    "        self.function = cost + heuristic\n",
    "        self.plan = plan"
   ]
  },
  {
   "cell_type": "code",
   "execution_count": 16,
   "id": "royal-cigarette",
   "metadata": {},
   "outputs": [],
   "source": [
    "node = Node(initial_state, 0, float('inf'), [])"
   ]
  },
  {
   "cell_type": "code",
   "execution_count": 17,
   "id": "small-location",
   "metadata": {},
   "outputs": [],
   "source": [
    "def A_star(initial_node, goal, actions):\n",
    "    frontier = [initial_node]\n",
    "    while len(frontier) > 0:\n",
    "        node = frontier.pop(0)\n",
    "        # print('------------------------------------------')\n",
    "        # print(' ^ '.join([str(x) for x in node.state]))\n",
    "        # print('------------------------------------------')\n",
    "        if all(elem in node.state for elem in goal):\n",
    "            return node.plan\n",
    "            break\n",
    "        else:\n",
    "            for action in actions:\n",
    "                for sub_action in action:\n",
    "                    # print(sub_action)\n",
    "                    new_state = sub_action.action(node.state)\n",
    "                    # print(' ^ '.join([str(x) for x in new_state]))\n",
    "                   \n",
    "                if all(elem in node.state for elem in new_state) and all(elem in new_state for elem in node.state) :\n",
    "                    pass\n",
    "                else:\n",
    "                    h = graph_heuristic(new_state, goal)\n",
    "                    c = node.cost + 1\n",
    "                    # print(node.plan)\n",
    "                    # print(node.plan.append(action))\n",
    "                    new_node = Node(new_state, c, h, copy.deepcopy(node.plan))\n",
    "                    new_node.plan.append(action)\n",
    "                    # print(' ^ '.join([str(x) for x in new_state]))\n",
    "                    # print(new_node.cost, new_node.heuristic)\n",
    "                    # print(new_node.plan)\n",
    "                    # node.plan.append(str(action))\n",
    "                    # new_node.plan = node.plan\n",
    "                    \n",
    "                    frontier.append(new_node)\n",
    "            \n",
    "            frontier = sorted(frontier, key = lambda x: x.function)\n",
    "    return 'NO HAY RESPUESTA'"
   ]
  },
  {
   "cell_type": "code",
   "execution_count": 18,
   "id": "frank-gazette",
   "metadata": {
    "tags": []
   },
   "outputs": [],
   "source": [
    "node = Node(initial_state, 0, float('inf'), [])\n",
    "goal = [Locked('Door'), In('Key', 'Box')]\n",
    "plan = A_star(node, goal, actions)"
   ]
  },
  {
   "cell_type": "code",
   "execution_count": 19,
   "id": "unavailable-assault",
   "metadata": {},
   "outputs": [],
   "source": [
    "plan = ' -> '.join([str(item) for sublist in plan for item in sublist])"
   ]
  },
  {
   "cell_type": "code",
   "execution_count": 20,
   "id": "organizational-tamil",
   "metadata": {},
   "outputs": [
    {
     "data": {
      "text/plain": [
       "'Grasp Key -> Move from R2 to R1 -> Lock Door -> Put the key into the box'"
      ]
     },
     "execution_count": 20,
     "metadata": {},
     "output_type": "execute_result"
    }
   ],
   "source": [
    "plan"
   ]
  },
  {
   "cell_type": "code",
   "execution_count": null,
   "id": "bound-afghanistan",
   "metadata": {},
   "outputs": [],
   "source": []
  },
  {
   "cell_type": "markdown",
   "id": "pharmaceutical-fireplace",
   "metadata": {},
   "source": [
    "## Dinner"
   ]
  },
  {
   "cell_type": "code",
   "execution_count": 42,
   "id": "excellent-bulletin",
   "metadata": {},
   "outputs": [],
   "source": [
    "class CleanHands:\n",
    "    def __init__(self, negation = False):\n",
    "        self.negation = negation\n",
    "        \n",
    "    def __hash__(self):\n",
    "        return hash((self.negation))\n",
    "        \n",
    "    def __eq__(self, other):\n",
    "        return isinstance(other, CleanHands) and self.negation == other.negation\n",
    "    \n",
    "    def __invert__(self):\n",
    "        if self.negation:\n",
    "             return CleanHands(negation = False)\n",
    "        else:\n",
    "            return CleanHands(negation = True)\n",
    "    def __str__(self):\n",
    "        if self.negation:\n",
    "            return f'~CleanHands'\n",
    "        else:   \n",
    "            return f'CleanHands'\n",
    "        \n",
    "class Dinner:\n",
    "    def __init__(self, negation = False):\n",
    "        self.negation = negation\n",
    "        \n",
    "    def __hash__(self):\n",
    "        return hash((self.negation))\n",
    "        \n",
    "    def __eq__(self, other):\n",
    "        return isinstance(other, Dinner) and self.negation == other.negation\n",
    "    \n",
    "    def __invert__(self):\n",
    "        if self.negation:\n",
    "             return Dinner(negation = False)\n",
    "        else:\n",
    "            return Dinner(negation = True)\n",
    "    def __str__(self):\n",
    "        if self.negation:\n",
    "            return f'~Dinner'\n",
    "        else:\n",
    "            return f'Dinner'\n",
    "        \n",
    "class Present:\n",
    "    def __init__(self, negation = False):\n",
    "        self.negation = negation\n",
    "        \n",
    "    def __hash__(self):\n",
    "        return hash((self.negation))\n",
    "        \n",
    "    def __eq__(self, other):\n",
    "        return isinstance(other, Present) and self.negation == other.negation\n",
    "    \n",
    "    def __invert__(self):\n",
    "        if self.negation:\n",
    "             return Present(negation = False)\n",
    "        else:\n",
    "            return Present(negation = True)\n",
    "    def __str__(self):\n",
    "        if self.negation:\n",
    "            return f'~Present'\n",
    "        else:\n",
    "            return f'Present'\n",
    "        \n",
    "class Quiet:\n",
    "    def __init__(self, negation = False):\n",
    "        self.negation = negation\n",
    "        \n",
    "    def __hash__(self):\n",
    "        return hash((self.negation))\n",
    "        \n",
    "    def __eq__(self, other):\n",
    "        return isinstance(other, Quiet) and self.negation == other.negation\n",
    "    \n",
    "    def __invert__(self):\n",
    "        if self.negation:\n",
    "             return Quiet(negation = False)\n",
    "        else:\n",
    "            return Quiet(negation = True)\n",
    "        \n",
    "    def __str__(self):\n",
    "        if self.negation:\n",
    "            return f'~Quiet'\n",
    "        else:\n",
    "            return f'Quiet'\n",
    "        \n",
    "class Garbage:\n",
    "    def __init__(self, negation = False):\n",
    "        self.negation = negation\n",
    "        \n",
    "    def __hash__(self):\n",
    "        return hash((self.negation))\n",
    "        \n",
    "    def __eq__(self, other):\n",
    "        return isinstance(other, Garbage) and self.negation == other.negation\n",
    "    \n",
    "    def __invert__(self):\n",
    "        if self.negation:\n",
    "             return Garbage(negation = False)\n",
    "        else:\n",
    "            return Garbage(negation = True)\n",
    "    def __str__(self):\n",
    "        if self.negation:\n",
    "            return f'~Garbage'\n",
    "        else:\n",
    "            return f'Garbage'\n",
    "        "
   ]
  },
  {
   "cell_type": "code",
   "execution_count": 44,
   "id": "arctic-planning",
   "metadata": {},
   "outputs": [],
   "source": [
    "initial_state = [CleanHands(), Quiet(), Garbage()]\n",
    "goal = [Dinner(), Present(), ~Garbage()]"
   ]
  },
  {
   "cell_type": "code",
   "execution_count": 49,
   "id": "quarterly-complement",
   "metadata": {},
   "outputs": [],
   "source": [
    "class Cook:\n",
    "    def __init__(self):\n",
    "        self.preconditions = [CleanHands()]\n",
    "        self.implications = [~CleanHands()]\n",
    "        self.delete = []\n",
    "        self.effect = [Dinner()]\n",
    "    def action(self, state):\n",
    "        state = copy.deepcopy(state)\n",
    "        if all(precondition in state for precondition in self.preconditions):\n",
    "            for element in self.delete:\n",
    "                state.remove(element)\n",
    "            for element in self.effect:\n",
    "                state.append(element)\n",
    "        return list(set(state))\n",
    "    def __str__(self):\n",
    "        return f'Cook'\n",
    "    \n",
    "class Wrap:\n",
    "    def __init__(self):\n",
    "        self.preconditions = [Quiet()]\n",
    "        self.implications = [~Quiet()]\n",
    "        self.delete = []\n",
    "        self.effect = [Present()]\n",
    "    def action(self, state):\n",
    "        state = copy.deepcopy(state)\n",
    "        if all(precondition in state for precondition in self.preconditions):\n",
    "            for element in self.delete:\n",
    "                state.remove(element)\n",
    "            for element in self.effect:\n",
    "                state.append(element)\n",
    "        return list(set(state))\n",
    "    def __str__(self):\n",
    "        return f'Wrap Present'\n",
    "    \n",
    "    \n",
    "class Carry:\n",
    "    def __init__(self):\n",
    "        self.preconditions = []\n",
    "        self.implications = []\n",
    "        self.delete = [Garbage(), CleanHands()]\n",
    "        self.effect = [~Garbage(), ~CleanHands()]\n",
    "    def action(self, state):\n",
    "        state = copy.deepcopy(state)\n",
    "        if all(precondition in state for precondition in self.preconditions):\n",
    "            for element in self.delete:\n",
    "                if element in state:\n",
    "                    state.remove(element)\n",
    "            for element in self.effect:\n",
    "                state.append(element)\n",
    "        return list(set(state))\n",
    "    def __str__(self):\n",
    "        return f'Carry garbage out'\n",
    "    \n",
    "class Dolly:\n",
    "    def __init__(self):\n",
    "        self.preconditions = []\n",
    "        self.implications = []\n",
    "        self.delete = [Garbage(), Quiet()]\n",
    "        self.effect = [~Garbage(), ~Quiet()]\n",
    "    def action(self, state):\n",
    "        state = copy.deepcopy(state)\n",
    "        if all(precondition in state for precondition in self.preconditions):\n",
    "            for element in self.delete:\n",
    "                if element in state:\n",
    "                    state.remove(element)\n",
    "            for element in self.effect:\n",
    "                state.append(element)\n",
    "        return list(set(state))\n",
    "    def __str__(self):\n",
    "        return f'Use dolly to take garbage out'"
   ]
  },
  {
   "cell_type": "code",
   "execution_count": 41,
   "id": "convertible-dispute",
   "metadata": {},
   "outputs": [
    {
     "data": {
      "text/plain": [
       "[<__main__.CleanHands at 0x2211781bf10>,\n",
       " <__main__.Quiet at 0x2211781b370>,\n",
       " <__main__.Garbage at 0x2211781bd60>]"
      ]
     },
     "execution_count": 41,
     "metadata": {},
     "output_type": "execute_result"
    }
   ],
   "source": [
    "initial_state"
   ]
  },
  {
   "cell_type": "code",
   "execution_count": 55,
   "id": "pediatric-elder",
   "metadata": {},
   "outputs": [],
   "source": [
    "dolly = Dolly()\n",
    "wrap = Wrap()\n",
    "cook = Cook()\n",
    "carry = Carry()"
   ]
  },
  {
   "cell_type": "code",
   "execution_count": 51,
   "id": "careful-roots",
   "metadata": {},
   "outputs": [
    {
     "name": "stdout",
     "output_type": "stream",
     "text": [
      "CleanHands ^ Quiet ^ Garbage\n"
     ]
    }
   ],
   "source": [
    "print(' ^ '.join([str(x) for x in initial_state]))"
   ]
  },
  {
   "cell_type": "code",
   "execution_count": 52,
   "id": "incorporate-fields",
   "metadata": {},
   "outputs": [],
   "source": [
    "new = dolly.action(initial_state)"
   ]
  },
  {
   "cell_type": "code",
   "execution_count": 88,
   "id": "expanded-person",
   "metadata": {},
   "outputs": [],
   "source": [
    "new = wrap.action(initial_state)"
   ]
  },
  {
   "cell_type": "code",
   "execution_count": 89,
   "id": "executed-curtis",
   "metadata": {},
   "outputs": [
    {
     "name": "stdout",
     "output_type": "stream",
     "text": [
      "CleanHands ^ Quiet ^ Garbage ^ Present\n"
     ]
    }
   ],
   "source": [
    "print(' ^ '.join([str(x) for x in new]))"
   ]
  },
  {
   "cell_type": "code",
   "execution_count": 58,
   "id": "dried-mileage",
   "metadata": {},
   "outputs": [
    {
     "data": {
      "text/plain": [
       "False"
      ]
     },
     "execution_count": 58,
     "metadata": {},
     "output_type": "execute_result"
    }
   ],
   "source": [
    "mutex(cook, wrap)"
   ]
  },
  {
   "cell_type": "code",
   "execution_count": 59,
   "id": "abroad-isolation",
   "metadata": {},
   "outputs": [],
   "source": [
    "ac = [dolly, wrap, cook, carry]"
   ]
  },
  {
   "cell_type": "code",
   "execution_count": 60,
   "id": "confused-hindu",
   "metadata": {},
   "outputs": [],
   "source": [
    "actions = get_possible_actions(ac)"
   ]
  },
  {
   "cell_type": "code",
   "execution_count": 65,
   "id": "soviet-contributor",
   "metadata": {},
   "outputs": [
    {
     "name": "stdout",
     "output_type": "stream",
     "text": [
      "Wrap Present ^ Carry garbage out\n"
     ]
    }
   ],
   "source": [
    "print(' ^ '.join([str(x) for x in actions[3]]))"
   ]
  },
  {
   "cell_type": "code",
   "execution_count": null,
   "id": "lasting-thanks",
   "metadata": {},
   "outputs": [],
   "source": []
  },
  {
   "cell_type": "code",
   "execution_count": 61,
   "id": "needed-works",
   "metadata": {},
   "outputs": [
    {
     "data": {
      "text/plain": [
       "[[<__main__.Dolly at 0x22118a84070>, <__main__.Cook at 0x22119ba38e0>],\n",
       " [<__main__.Dolly at 0x22118a84070>, <__main__.Carry at 0x22119ba3580>],\n",
       " [<__main__.Wrap at 0x22119ba3df0>, <__main__.Cook at 0x22119ba38e0>],\n",
       " [<__main__.Wrap at 0x22119ba3df0>, <__main__.Carry at 0x22119ba3580>],\n",
       " [<__main__.Dolly at 0x22118a84070>],\n",
       " [<__main__.Wrap at 0x22119ba3df0>],\n",
       " [<__main__.Cook at 0x22119ba38e0>],\n",
       " [<__main__.Carry at 0x22119ba3580>]]"
      ]
     },
     "execution_count": 61,
     "metadata": {},
     "output_type": "execute_result"
    }
   ],
   "source": [
    "actions"
   ]
  },
  {
   "cell_type": "code",
   "execution_count": null,
   "id": "delayed-salon",
   "metadata": {},
   "outputs": [],
   "source": []
  },
  {
   "cell_type": "code",
   "execution_count": 94,
   "id": "entertaining-rugby",
   "metadata": {},
   "outputs": [],
   "source": [
    "\n",
    "def build_plan_graph(state, goal, actions):    \n",
    "    graph_levels = [state]\n",
    "    \n",
    "    i = 0\n",
    "    while(True):\n",
    "#         print(f'LEVEL {i+1}')\n",
    "        new_level = [*graph_levels[i]]\n",
    "#         new_literals = grasp.action(graph_levels[i])\n",
    "#         print('STATE: ', ' ^ '.join([str(x) for x in graph_levels[i]]))\n",
    "        for action in actions:\n",
    "            for subaction in action:\n",
    "#                 print(subaction)\n",
    "                new_literals = subaction.action(graph_levels[i])\n",
    "#             print('NEW STATE: ', ' ^ '.join([str(x) for x in new_literals]))\n",
    "            for lit in new_literals:\n",
    "                new_level.append(lit)\n",
    "        \n",
    "        graph_levels.append(list(set(new_level)))\n",
    "\n",
    "        if all(elem in new_level for elem in goal):\n",
    "            break\n",
    "            \n",
    "        if len(list(set(new_level))) == len(graph_levels[i]):\n",
    "            return []\n",
    "            break\n",
    "        \n",
    "        i += 1\n",
    "    \n",
    "            \n",
    "    return graph_levels\n",
    "        \n",
    "        "
   ]
  },
  {
   "cell_type": "code",
   "execution_count": null,
   "id": "visible-tonight",
   "metadata": {},
   "outputs": [],
   "source": []
  },
  {
   "cell_type": "code",
   "execution_count": 95,
   "id": "indian-weapon",
   "metadata": {},
   "outputs": [
    {
     "data": {
      "text/plain": [
       "[[<__main__.CleanHands at 0x22118a94970>,\n",
       "  <__main__.Quiet at 0x22118a94bb0>,\n",
       "  <__main__.Garbage at 0x22118a94a60>],\n",
       " [<__main__.CleanHands at 0x22118a94970>,\n",
       "  <__main__.Quiet at 0x22118a94bb0>,\n",
       "  <__main__.Garbage at 0x2211899ec10>,\n",
       "  <__main__.Garbage at 0x22118a94a60>,\n",
       "  <__main__.Dinner at 0x22118a847c0>,\n",
       "  <__main__.CleanHands at 0x2211899ee20>,\n",
       "  <__main__.Quiet at 0x22118a842b0>,\n",
       "  <__main__.Present at 0x22118a840a0>]]"
      ]
     },
     "execution_count": 95,
     "metadata": {},
     "output_type": "execute_result"
    }
   ],
   "source": [
    "build_plan_graph(initial_state, goal, actions)"
   ]
  },
  {
   "cell_type": "code",
   "execution_count": 101,
   "id": "daily-earth",
   "metadata": {},
   "outputs": [],
   "source": [
    "def graph_heuristic(state, goal, actions):\n",
    "    graph = build_plan_graph(state, goal, actions)\n",
    "    if len(graph) > 0:\n",
    "        return len(graph) - 1\n",
    "    else:\n",
    "        return float('inf')"
   ]
  },
  {
   "cell_type": "code",
   "execution_count": 113,
   "id": "protected-friend",
   "metadata": {},
   "outputs": [],
   "source": [
    "def A_star(initial_node, goal, actions):\n",
    "    frontier = [initial_node]\n",
    "    while len(frontier) > 0:\n",
    "        node = frontier.pop(0)\n",
    "        print('------------------------------------------')\n",
    "        print(' ^ '.join([str(x) for x in node.state]))\n",
    "        print('------------------------------------------')\n",
    "        if all(elem in node.state for elem in goal):\n",
    "            return node.plan\n",
    "            break\n",
    "        else:\n",
    "            for action in actions:\n",
    "                aux_state = copy.deepcopy(node.state)\n",
    "                print([str(x) for x in action])\n",
    "                for sub_action in action:\n",
    "                    \n",
    "                    new_state = sub_action.action(aux_state)\n",
    "                    aux_state = new_state\n",
    "                \n",
    "                print(' ^ '.join([str(x) for x in new_state]))\n",
    "                   \n",
    "                if all(elem in node.state for elem in new_state) and all(elem in new_state for elem in node.state) :\n",
    "                    pass\n",
    "                else:\n",
    "                    h = graph_heuristic(new_state, goal, actions)\n",
    "                    c = node.cost + 1\n",
    "                    print(h, c)\n",
    "#                     print(node.plan)\n",
    "#                     print(node.plan.append(action))\n",
    "                    new_node = Node(new_state, c, h, copy.deepcopy(node.plan))\n",
    "                    new_node.plan.append(action)\n",
    "                    # print(' ^ '.join([str(x) for x in new_state]))\n",
    "                    # print(new_node.cost, new_node.heuristic)\n",
    "                    # print(new_node.plan)\n",
    "                    # node.plan.append(str(action))\n",
    "                    # new_node.plan = node.plan\n",
    "                    \n",
    "                    frontier.append(new_node)\n",
    "            \n",
    "            frontier = sorted(frontier, key = lambda x: x.function)\n",
    "    return 'NO HAY RESPUESTA'"
   ]
  },
  {
   "cell_type": "code",
   "execution_count": null,
   "id": "sweet-guatemala",
   "metadata": {},
   "outputs": [],
   "source": []
  },
  {
   "cell_type": "code",
   "execution_count": 114,
   "id": "cross-termination",
   "metadata": {},
   "outputs": [],
   "source": [
    "node = Node(initial_state, 0, float('inf'), [])"
   ]
  },
  {
   "cell_type": "code",
   "execution_count": 115,
   "id": "medical-green",
   "metadata": {},
   "outputs": [
    {
     "name": "stdout",
     "output_type": "stream",
     "text": [
      "------------------------------------------\n",
      "CleanHands ^ Quiet ^ Garbage\n",
      "------------------------------------------\n",
      "['Use dolly to take garbage out', 'Cook']\n",
      "CleanHands ^ ~Garbage ^ ~Quiet ^ Dinner\n",
      "inf 1\n",
      "['Use dolly to take garbage out', 'Carry garbage out']\n",
      "~Garbage ^ ~Quiet ^ ~CleanHands\n",
      "inf 1\n",
      "['Wrap Present', 'Cook']\n",
      "CleanHands ^ Quiet ^ Dinner ^ Garbage ^ Present\n",
      "1 1\n",
      "['Wrap Present', 'Carry garbage out']\n",
      "Quiet ^ Present ^ ~Garbage ^ ~CleanHands\n",
      "inf 1\n",
      "['Use dolly to take garbage out']\n",
      "CleanHands ^ ~Garbage ^ ~Quiet\n",
      "inf 1\n",
      "['Wrap Present']\n",
      "CleanHands ^ Quiet ^ Garbage ^ Present\n",
      "1 1\n",
      "['Cook']\n",
      "CleanHands ^ Quiet ^ Garbage ^ Dinner\n",
      "1 1\n",
      "['Carry garbage out']\n",
      "Quiet ^ ~Garbage ^ ~CleanHands\n",
      "inf 1\n",
      "------------------------------------------\n",
      "CleanHands ^ Quiet ^ Dinner ^ Garbage ^ Present\n",
      "------------------------------------------\n",
      "['Use dolly to take garbage out', 'Cook']\n",
      "CleanHands ^ Dinner ^ ~Garbage ^ ~Quiet ^ Present\n",
      "1 2\n",
      "['Use dolly to take garbage out', 'Carry garbage out']\n",
      "Dinner ^ ~Quiet ^ ~CleanHands ^ Present ^ ~Garbage\n",
      "1 2\n",
      "['Wrap Present', 'Cook']\n",
      "CleanHands ^ Quiet ^ Garbage ^ Present ^ Dinner\n",
      "['Wrap Present', 'Carry garbage out']\n",
      "Quiet ^ Present ^ ~CleanHands ^ Dinner ^ ~Garbage\n",
      "1 2\n",
      "['Use dolly to take garbage out']\n",
      "CleanHands ^ Dinner ^ ~Quiet ^ Present ^ ~Garbage\n",
      "1 2\n",
      "['Wrap Present']\n",
      "CleanHands ^ Quiet ^ Present ^ Dinner ^ Garbage\n",
      "['Cook']\n",
      "CleanHands ^ Quiet ^ Present ^ Dinner ^ Garbage\n",
      "['Carry garbage out']\n",
      "Quiet ^ Dinner ^ ~CleanHands ^ Present ^ ~Garbage\n",
      "1 2\n",
      "------------------------------------------\n",
      "CleanHands ^ Quiet ^ Garbage ^ Present\n",
      "------------------------------------------\n",
      "['Use dolly to take garbage out', 'Cook']\n",
      "CleanHands ^ Present ^ Dinner ^ ~Garbage ^ ~Quiet\n",
      "1 2\n",
      "['Use dolly to take garbage out', 'Carry garbage out']\n",
      "Present ^ ~Garbage ^ ~Quiet ^ ~CleanHands\n",
      "inf 2\n",
      "['Wrap Present', 'Cook']\n",
      "CleanHands ^ Quiet ^ Dinner ^ Garbage ^ Present\n",
      "1 2\n",
      "['Wrap Present', 'Carry garbage out']\n",
      "Quiet ^ Present ^ ~Garbage ^ ~CleanHands\n",
      "inf 2\n",
      "['Use dolly to take garbage out']\n",
      "CleanHands ^ Present ^ ~Garbage ^ ~Quiet\n",
      "1 2\n",
      "['Wrap Present']\n",
      "CleanHands ^ Quiet ^ Garbage ^ Present\n",
      "['Cook']\n",
      "CleanHands ^ Quiet ^ Dinner ^ Garbage ^ Present\n",
      "1 2\n",
      "['Carry garbage out']\n",
      "Quiet ^ Present ^ ~Garbage ^ ~CleanHands\n",
      "inf 2\n",
      "------------------------------------------\n",
      "CleanHands ^ Quiet ^ Garbage ^ Dinner\n",
      "------------------------------------------\n",
      "['Use dolly to take garbage out', 'Cook']\n",
      "CleanHands ^ Dinner ^ ~Garbage ^ ~Quiet\n",
      "inf 2\n",
      "['Use dolly to take garbage out', 'Carry garbage out']\n",
      "Dinner ^ ~Garbage ^ ~Quiet ^ ~CleanHands\n",
      "inf 2\n",
      "['Wrap Present', 'Cook']\n",
      "CleanHands ^ Quiet ^ Dinner ^ Present ^ Garbage\n",
      "1 2\n",
      "['Wrap Present', 'Carry garbage out']\n",
      "Quiet ^ Present ^ ~CleanHands ^ Dinner ^ ~Garbage\n",
      "1 2\n",
      "['Use dolly to take garbage out']\n",
      "CleanHands ^ Dinner ^ ~Garbage ^ ~Quiet\n",
      "inf 2\n",
      "['Wrap Present']\n",
      "CleanHands ^ Quiet ^ Present ^ Garbage ^ Dinner\n",
      "1 2\n",
      "['Cook']\n",
      "CleanHands ^ Quiet ^ Garbage ^ Dinner\n",
      "['Carry garbage out']\n",
      "Quiet ^ Dinner ^ ~Garbage ^ ~CleanHands\n",
      "1 2\n",
      "------------------------------------------\n",
      "CleanHands ^ Dinner ^ ~Garbage ^ ~Quiet ^ Present\n",
      "------------------------------------------\n"
     ]
    }
   ],
   "source": [
    "plan = A_star(node, goal, actions)"
   ]
  },
  {
   "cell_type": "code",
   "execution_count": 116,
   "id": "favorite-constraint",
   "metadata": {},
   "outputs": [],
   "source": [
    "plan = ' -> '.join([str(item) for sublist in plan for item in sublist])"
   ]
  },
  {
   "cell_type": "code",
   "execution_count": 117,
   "id": "existing-pontiac",
   "metadata": {},
   "outputs": [
    {
     "data": {
      "text/plain": [
       "'Wrap Present -> Cook -> Use dolly to take garbage out -> Cook'"
      ]
     },
     "execution_count": 117,
     "metadata": {},
     "output_type": "execute_result"
    }
   ],
   "source": [
    "plan"
   ]
  }
 ],
 "metadata": {
  "kernelspec": {
   "display_name": "Python 3 (ipykernel)",
   "language": "python",
   "name": "python3"
  },
  "language_info": {
   "codemirror_mode": {
    "name": "ipython",
    "version": 3
   },
   "file_extension": ".py",
   "mimetype": "text/x-python",
   "name": "python",
   "nbconvert_exporter": "python",
   "pygments_lexer": "ipython3",
   "version": "3.10.5"
  }
 },
 "nbformat": 4,
 "nbformat_minor": 5
}
